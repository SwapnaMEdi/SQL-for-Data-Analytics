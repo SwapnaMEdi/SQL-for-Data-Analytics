{
 "cells": [
  {
   "cell_type": "code",
   "execution_count": 5,
   "id": "515a75cf",
   "metadata": {},
   "outputs": [],
   "source": [
    "import mysql.connector\n",
    "import pandas as pd\n",
    "\n",
    "mydb = mysql.connector.connect(\n",
    "  host=\"localhost\",\n",
    "  user=\"root\",\n",
    "  password=\"Test\"\n",
    ")\n",
    "\n",
    "cursor = mydb.cursor()"
   ]
  },
  {
   "cell_type": "code",
   "execution_count": 6,
   "id": "7da46389",
   "metadata": {},
   "outputs": [
    {
     "name": "stdout",
     "output_type": "stream",
     "text": [
      "Requirement already satisfied: mysql-connector-python in c:\\users\\swapna\\anaconda3\\lib\\site-packages (8.1.0)\n",
      "Requirement already satisfied: protobuf<=4.21.12,>=4.21.1 in c:\\users\\swapna\\anaconda3\\lib\\site-packages (from mysql-connector-python) (4.21.12)\n"
     ]
    }
   ],
   "source": [
    "!pip install mysql-connector-python"
   ]
  },
  {
   "cell_type": "code",
   "execution_count": 7,
   "id": "79e4a995",
   "metadata": {},
   "outputs": [],
   "source": [
    "#Droping database MYDATABASE if already exists.\n",
    "cursor.execute(\"DROP database IF EXISTS Dataset1\")"
   ]
  },
  {
   "cell_type": "code",
   "execution_count": 8,
   "id": "a5824703",
   "metadata": {},
   "outputs": [],
   "source": [
    "# Creating a Database\n",
    "cursor.execute(\" CREATE DATABASE Dataset1\")"
   ]
  },
  {
   "cell_type": "code",
   "execution_count": 9,
   "id": "03cff737",
   "metadata": {},
   "outputs": [
    {
     "name": "stdout",
     "output_type": "stream",
     "text": [
      "('dataset1',)\n",
      "('employees',)\n",
      "('information_schema',)\n",
      "('mydb',)\n",
      "('mysql',)\n",
      "('performance_schema',)\n",
      "('power',)\n",
      "('sakila',)\n",
      "('sys',)\n",
      "('world',)\n"
     ]
    }
   ],
   "source": [
    "# SHOW DATABASES\n",
    "cursor.execute(\"SHOW DATABASES\")\n",
    "\n",
    "for x in cursor:\n",
    "    print(x) "
   ]
  },
  {
   "cell_type": "code",
   "execution_count": 10,
   "id": "a99216d8",
   "metadata": {},
   "outputs": [],
   "source": [
    "# Use heights\n",
    "cursor.execute(\"use Dataset1\")"
   ]
  },
  {
   "cell_type": "code",
   "execution_count": 12,
   "id": "7a869a77",
   "metadata": {},
   "outputs": [
    {
     "data": {
      "text/html": [
       "<div>\n",
       "<style scoped>\n",
       "    .dataframe tbody tr th:only-of-type {\n",
       "        vertical-align: middle;\n",
       "    }\n",
       "\n",
       "    .dataframe tbody tr th {\n",
       "        vertical-align: top;\n",
       "    }\n",
       "\n",
       "    .dataframe thead th {\n",
       "        text-align: right;\n",
       "    }\n",
       "</style>\n",
       "<table border=\"1\" class=\"dataframe\">\n",
       "  <thead>\n",
       "    <tr style=\"text-align: right;\">\n",
       "      <th></th>\n",
       "      <th>height</th>\n",
       "    </tr>\n",
       "  </thead>\n",
       "  <tbody>\n",
       "    <tr>\n",
       "      <th>0</th>\n",
       "      <td>182.395153</td>\n",
       "    </tr>\n",
       "    <tr>\n",
       "      <th>1</th>\n",
       "      <td>177.369198</td>\n",
       "    </tr>\n",
       "    <tr>\n",
       "      <th>2</th>\n",
       "      <td>182.198838</td>\n",
       "    </tr>\n",
       "    <tr>\n",
       "      <th>3</th>\n",
       "      <td>176.988964</td>\n",
       "    </tr>\n",
       "    <tr>\n",
       "      <th>4</th>\n",
       "      <td>163.689656</td>\n",
       "    </tr>\n",
       "    <tr>\n",
       "      <th>...</th>\n",
       "      <td>...</td>\n",
       "    </tr>\n",
       "    <tr>\n",
       "      <th>9995</th>\n",
       "      <td>172.694718</td>\n",
       "    </tr>\n",
       "    <tr>\n",
       "      <th>9996</th>\n",
       "      <td>184.422508</td>\n",
       "    </tr>\n",
       "    <tr>\n",
       "      <th>9997</th>\n",
       "      <td>193.775173</td>\n",
       "    </tr>\n",
       "    <tr>\n",
       "      <th>9998</th>\n",
       "      <td>185.282704</td>\n",
       "    </tr>\n",
       "    <tr>\n",
       "      <th>9999</th>\n",
       "      <td>178.123633</td>\n",
       "    </tr>\n",
       "  </tbody>\n",
       "</table>\n",
       "<p>10000 rows × 1 columns</p>\n",
       "</div>"
      ],
      "text/plain": [
       "          height\n",
       "0     182.395153\n",
       "1     177.369198\n",
       "2     182.198838\n",
       "3     176.988964\n",
       "4     163.689656\n",
       "...          ...\n",
       "9995  172.694718\n",
       "9996  184.422508\n",
       "9997  193.775173\n",
       "9998  185.282704\n",
       "9999  178.123633\n",
       "\n",
       "[10000 rows x 1 columns]"
      ]
     },
     "execution_count": 12,
     "metadata": {},
     "output_type": "execute_result"
    }
   ],
   "source": [
    "# Load Datasets to DB-heights\n",
    "data = pd.read_csv(\"heights.csv\")\n",
    "data"
   ]
  },
  {
   "cell_type": "code",
   "execution_count": 14,
   "id": "460c3b91",
   "metadata": {},
   "outputs": [
    {
     "ename": "ProgrammingError",
     "evalue": "1050 (42S01): Table 'heights' already exists",
     "output_type": "error",
     "traceback": [
      "\u001b[1;31m---------------------------------------------------------------------------\u001b[0m",
      "\u001b[1;31mMySQLInterfaceError\u001b[0m                       Traceback (most recent call last)",
      "File \u001b[1;32m~\\anaconda3\\lib\\site-packages\\mysql\\connector\\connection_cext.py:633\u001b[0m, in \u001b[0;36mCMySQLConnection.cmd_query\u001b[1;34m(self, query, raw, buffered, raw_as_string)\u001b[0m\n\u001b[0;32m    632\u001b[0m         query \u001b[38;5;241m=\u001b[39m query\u001b[38;5;241m.\u001b[39mencode(\u001b[38;5;124m\"\u001b[39m\u001b[38;5;124mutf-8\u001b[39m\u001b[38;5;124m\"\u001b[39m)\n\u001b[1;32m--> 633\u001b[0m     \u001b[38;5;28;43mself\u001b[39;49m\u001b[38;5;241;43m.\u001b[39;49m\u001b[43m_cmysql\u001b[49m\u001b[38;5;241;43m.\u001b[39;49m\u001b[43mquery\u001b[49m\u001b[43m(\u001b[49m\n\u001b[0;32m    634\u001b[0m \u001b[43m        \u001b[49m\u001b[43mquery\u001b[49m\u001b[43m,\u001b[49m\n\u001b[0;32m    635\u001b[0m \u001b[43m        \u001b[49m\u001b[43mraw\u001b[49m\u001b[38;5;241;43m=\u001b[39;49m\u001b[43mraw\u001b[49m\u001b[43m,\u001b[49m\n\u001b[0;32m    636\u001b[0m \u001b[43m        \u001b[49m\u001b[43mbuffered\u001b[49m\u001b[38;5;241;43m=\u001b[39;49m\u001b[43mbuffered\u001b[49m\u001b[43m,\u001b[49m\n\u001b[0;32m    637\u001b[0m \u001b[43m        \u001b[49m\u001b[43mraw_as_string\u001b[49m\u001b[38;5;241;43m=\u001b[39;49m\u001b[43mraw_as_string\u001b[49m\u001b[43m,\u001b[49m\n\u001b[0;32m    638\u001b[0m \u001b[43m        \u001b[49m\u001b[43mquery_attrs\u001b[49m\u001b[38;5;241;43m=\u001b[39;49m\u001b[38;5;28;43mself\u001b[39;49m\u001b[38;5;241;43m.\u001b[39;49m\u001b[43mquery_attrs\u001b[49m\u001b[43m,\u001b[49m\n\u001b[0;32m    639\u001b[0m \u001b[43m    \u001b[49m\u001b[43m)\u001b[49m\n\u001b[0;32m    640\u001b[0m \u001b[38;5;28;01mexcept\u001b[39;00m MySQLInterfaceError \u001b[38;5;28;01mas\u001b[39;00m err:\n",
      "\u001b[1;31mMySQLInterfaceError\u001b[0m: Table 'heights' already exists",
      "\nThe above exception was the direct cause of the following exception:\n",
      "\u001b[1;31mProgrammingError\u001b[0m                          Traceback (most recent call last)",
      "Cell \u001b[1;32mIn[14], line 2\u001b[0m\n\u001b[0;32m      1\u001b[0m \u001b[38;5;66;03m# Create Table heights\u001b[39;00m\n\u001b[1;32m----> 2\u001b[0m \u001b[43mcursor\u001b[49m\u001b[38;5;241;43m.\u001b[39;49m\u001b[43mexecute\u001b[49m\u001b[43m(\u001b[49m\u001b[38;5;124;43m\"\u001b[39;49m\u001b[38;5;124;43mcreate Table heights(height FLOAT)\u001b[39;49m\u001b[38;5;124;43m\"\u001b[39;49m\u001b[43m)\u001b[49m\n",
      "File \u001b[1;32m~\\anaconda3\\lib\\site-packages\\mysql\\connector\\cursor_cext.py:330\u001b[0m, in \u001b[0;36mCMySQLCursor.execute\u001b[1;34m(self, operation, params, multi)\u001b[0m\n\u001b[0;32m    325\u001b[0m             \u001b[38;5;28;01mraise\u001b[39;00m ProgrammingError(\n\u001b[0;32m    326\u001b[0m                 \u001b[38;5;124m\"\u001b[39m\u001b[38;5;124mNot all parameters were used in the SQL statement\u001b[39m\u001b[38;5;124m\"\u001b[39m\n\u001b[0;32m    327\u001b[0m             )\n\u001b[0;32m    329\u001b[0m \u001b[38;5;28;01mtry\u001b[39;00m:\n\u001b[1;32m--> 330\u001b[0m     result \u001b[38;5;241m=\u001b[39m \u001b[38;5;28;43mself\u001b[39;49m\u001b[38;5;241;43m.\u001b[39;49m\u001b[43m_cnx\u001b[49m\u001b[38;5;241;43m.\u001b[39;49m\u001b[43mcmd_query\u001b[49m\u001b[43m(\u001b[49m\n\u001b[0;32m    331\u001b[0m \u001b[43m        \u001b[49m\u001b[43mstmt\u001b[49m\u001b[43m,\u001b[49m\n\u001b[0;32m    332\u001b[0m \u001b[43m        \u001b[49m\u001b[43mraw\u001b[49m\u001b[38;5;241;43m=\u001b[39;49m\u001b[38;5;28;43mself\u001b[39;49m\u001b[38;5;241;43m.\u001b[39;49m\u001b[43m_raw\u001b[49m\u001b[43m,\u001b[49m\n\u001b[0;32m    333\u001b[0m \u001b[43m        \u001b[49m\u001b[43mbuffered\u001b[49m\u001b[38;5;241;43m=\u001b[39;49m\u001b[38;5;28;43mself\u001b[39;49m\u001b[38;5;241;43m.\u001b[39;49m\u001b[43m_buffered\u001b[49m\u001b[43m,\u001b[49m\n\u001b[0;32m    334\u001b[0m \u001b[43m        \u001b[49m\u001b[43mraw_as_string\u001b[49m\u001b[38;5;241;43m=\u001b[39;49m\u001b[38;5;28;43mself\u001b[39;49m\u001b[38;5;241;43m.\u001b[39;49m\u001b[43m_raw_as_string\u001b[49m\u001b[43m,\u001b[49m\n\u001b[0;32m    335\u001b[0m \u001b[43m    \u001b[49m\u001b[43m)\u001b[49m\n\u001b[0;32m    336\u001b[0m \u001b[38;5;28;01mexcept\u001b[39;00m MySQLInterfaceError \u001b[38;5;28;01mas\u001b[39;00m err:\n\u001b[0;32m    337\u001b[0m     \u001b[38;5;28;01mraise\u001b[39;00m get_mysql_exception(\n\u001b[0;32m    338\u001b[0m         msg\u001b[38;5;241m=\u001b[39merr\u001b[38;5;241m.\u001b[39mmsg, errno\u001b[38;5;241m=\u001b[39merr\u001b[38;5;241m.\u001b[39merrno, sqlstate\u001b[38;5;241m=\u001b[39merr\u001b[38;5;241m.\u001b[39msqlstate\n\u001b[0;32m    339\u001b[0m     ) \u001b[38;5;28;01mfrom\u001b[39;00m \u001b[38;5;21;01merr\u001b[39;00m\n",
      "File \u001b[1;32m~\\anaconda3\\lib\\site-packages\\mysql\\connector\\opentelemetry\\context_propagation.py:77\u001b[0m, in \u001b[0;36mwith_context_propagation.<locals>.wrapper\u001b[1;34m(cnx, *args, **kwargs)\u001b[0m\n\u001b[0;32m     75\u001b[0m \u001b[38;5;124;03m\"\"\"Context propagation decorator.\"\"\"\u001b[39;00m\n\u001b[0;32m     76\u001b[0m \u001b[38;5;28;01mif\u001b[39;00m \u001b[38;5;129;01mnot\u001b[39;00m OTEL_ENABLED \u001b[38;5;129;01mor\u001b[39;00m \u001b[38;5;129;01mnot\u001b[39;00m cnx\u001b[38;5;241m.\u001b[39motel_context_propagation:\n\u001b[1;32m---> 77\u001b[0m     \u001b[38;5;28;01mreturn\u001b[39;00m method(cnx, \u001b[38;5;241m*\u001b[39margs, \u001b[38;5;241m*\u001b[39m\u001b[38;5;241m*\u001b[39mkwargs)\n\u001b[0;32m     79\u001b[0m current_span \u001b[38;5;241m=\u001b[39m trace\u001b[38;5;241m.\u001b[39mget_current_span()\n\u001b[0;32m     80\u001b[0m tp_header \u001b[38;5;241m=\u001b[39m \u001b[38;5;28;01mNone\u001b[39;00m\n",
      "File \u001b[1;32m~\\anaconda3\\lib\\site-packages\\mysql\\connector\\connection_cext.py:641\u001b[0m, in \u001b[0;36mCMySQLConnection.cmd_query\u001b[1;34m(self, query, raw, buffered, raw_as_string)\u001b[0m\n\u001b[0;32m    633\u001b[0m     \u001b[38;5;28mself\u001b[39m\u001b[38;5;241m.\u001b[39m_cmysql\u001b[38;5;241m.\u001b[39mquery(\n\u001b[0;32m    634\u001b[0m         query,\n\u001b[0;32m    635\u001b[0m         raw\u001b[38;5;241m=\u001b[39mraw,\n\u001b[1;32m   (...)\u001b[0m\n\u001b[0;32m    638\u001b[0m         query_attrs\u001b[38;5;241m=\u001b[39m\u001b[38;5;28mself\u001b[39m\u001b[38;5;241m.\u001b[39mquery_attrs,\n\u001b[0;32m    639\u001b[0m     )\n\u001b[0;32m    640\u001b[0m \u001b[38;5;28;01mexcept\u001b[39;00m MySQLInterfaceError \u001b[38;5;28;01mas\u001b[39;00m err:\n\u001b[1;32m--> 641\u001b[0m     \u001b[38;5;28;01mraise\u001b[39;00m get_mysql_exception(\n\u001b[0;32m    642\u001b[0m         err\u001b[38;5;241m.\u001b[39merrno, msg\u001b[38;5;241m=\u001b[39merr\u001b[38;5;241m.\u001b[39mmsg, sqlstate\u001b[38;5;241m=\u001b[39merr\u001b[38;5;241m.\u001b[39msqlstate\n\u001b[0;32m    643\u001b[0m     ) \u001b[38;5;28;01mfrom\u001b[39;00m \u001b[38;5;21;01merr\u001b[39;00m\n\u001b[0;32m    644\u001b[0m \u001b[38;5;28;01mexcept\u001b[39;00m \u001b[38;5;167;01mAttributeError\u001b[39;00m \u001b[38;5;28;01mas\u001b[39;00m err:\n\u001b[0;32m    645\u001b[0m     addr \u001b[38;5;241m=\u001b[39m (\n\u001b[0;32m    646\u001b[0m         \u001b[38;5;28mself\u001b[39m\u001b[38;5;241m.\u001b[39m_unix_socket \u001b[38;5;28;01mif\u001b[39;00m \u001b[38;5;28mself\u001b[39m\u001b[38;5;241m.\u001b[39m_unix_socket \u001b[38;5;28;01melse\u001b[39;00m \u001b[38;5;124mf\u001b[39m\u001b[38;5;124m\"\u001b[39m\u001b[38;5;132;01m{\u001b[39;00m\u001b[38;5;28mself\u001b[39m\u001b[38;5;241m.\u001b[39m_host\u001b[38;5;132;01m}\u001b[39;00m\u001b[38;5;124m:\u001b[39m\u001b[38;5;132;01m{\u001b[39;00m\u001b[38;5;28mself\u001b[39m\u001b[38;5;241m.\u001b[39m_port\u001b[38;5;132;01m}\u001b[39;00m\u001b[38;5;124m\"\u001b[39m\n\u001b[0;32m    647\u001b[0m     )\n",
      "\u001b[1;31mProgrammingError\u001b[0m: 1050 (42S01): Table 'heights' already exists"
     ]
    }
   ],
   "source": [
    "# Create Table heights\n",
    "cursor.execute(\"create Table heights(height FLOAT)\")"
   ]
  },
  {
   "cell_type": "code",
   "execution_count": 15,
   "id": "53c9947f",
   "metadata": {},
   "outputs": [],
   "source": [
    "# INSERT VALUES INTO heights\n",
    "for row in data.itertuples():\n",
    "    sql = \"INSERT INTO heights (height) VALUES (%(height)s)\"\n",
    "    val = {\n",
    "        \"height\":row.height\n",
    "        }  \n",
    "    cursor.execute(sql, val)\n",
    "    mydb.commit()"
   ]
  },
  {
   "cell_type": "code",
   "execution_count": 16,
   "id": "91961810",
   "metadata": {},
   "outputs": [
    {
     "data": {
      "text/html": [
       "<div>\n",
       "<style scoped>\n",
       "    .dataframe tbody tr th:only-of-type {\n",
       "        vertical-align: middle;\n",
       "    }\n",
       "\n",
       "    .dataframe tbody tr th {\n",
       "        vertical-align: top;\n",
       "    }\n",
       "\n",
       "    .dataframe thead th {\n",
       "        text-align: right;\n",
       "    }\n",
       "</style>\n",
       "<table border=\"1\" class=\"dataframe\">\n",
       "  <thead>\n",
       "    <tr style=\"text-align: right;\">\n",
       "      <th></th>\n",
       "      <th>Sales</th>\n",
       "    </tr>\n",
       "  </thead>\n",
       "  <tbody>\n",
       "    <tr>\n",
       "      <th>0</th>\n",
       "      <td>5000</td>\n",
       "    </tr>\n",
       "    <tr>\n",
       "      <th>1</th>\n",
       "      <td>1700</td>\n",
       "    </tr>\n",
       "    <tr>\n",
       "      <th>2</th>\n",
       "      <td>8200</td>\n",
       "    </tr>\n",
       "    <tr>\n",
       "      <th>3</th>\n",
       "      <td>1500</td>\n",
       "    </tr>\n",
       "    <tr>\n",
       "      <th>4</th>\n",
       "      <td>3300</td>\n",
       "    </tr>\n",
       "    <tr>\n",
       "      <th>5</th>\n",
       "      <td>9000</td>\n",
       "    </tr>\n",
       "    <tr>\n",
       "      <th>6</th>\n",
       "      <td>2000</td>\n",
       "    </tr>\n",
       "    <tr>\n",
       "      <th>7</th>\n",
       "      <td>0</td>\n",
       "    </tr>\n",
       "    <tr>\n",
       "      <th>8</th>\n",
       "      <td>0</td>\n",
       "    </tr>\n",
       "    <tr>\n",
       "      <th>9</th>\n",
       "      <td>2300</td>\n",
       "    </tr>\n",
       "    <tr>\n",
       "      <th>10</th>\n",
       "      <td>4700</td>\n",
       "    </tr>\n",
       "  </tbody>\n",
       "</table>\n",
       "</div>"
      ],
      "text/plain": [
       "    Sales\n",
       "0    5000\n",
       "1    1700\n",
       "2    8200\n",
       "3    1500\n",
       "4    3300\n",
       "5    9000\n",
       "6    2000\n",
       "7       0\n",
       "8       0\n",
       "9    2300\n",
       "10   4700"
      ]
     },
     "execution_count": 16,
     "metadata": {},
     "output_type": "execute_result"
    }
   ],
   "source": [
    "# Load Datasets to DB-auto_upgrades\n",
    "data = pd.read_csv(\"auto_upgrades.csv\")\n",
    "data"
   ]
  },
  {
   "cell_type": "code",
   "execution_count": 17,
   "id": "fc1e2eea",
   "metadata": {},
   "outputs": [],
   "source": [
    "# Create Table auto_upgrades\n",
    "cursor.execute(\"create Table auto_upgrades(Sales FLOAT)\")"
   ]
  },
  {
   "cell_type": "code",
   "execution_count": 18,
   "id": "eb76a98a",
   "metadata": {},
   "outputs": [],
   "source": [
    "# INSERT VALUES INTO auto_upgrades\n",
    "for row in data.itertuples():\n",
    "    sql = \"INSERT INTO auto_upgrades (Sales) VALUES (%(Sales)s)\"\n",
    "    val = {\n",
    "        \"Sales\":row.Sales\n",
    "        }  \n",
    "    cursor.execute(sql, val)\n",
    "    mydb.commit()"
   ]
  },
  {
   "cell_type": "code",
   "execution_count": 20,
   "id": "d32ecf8e",
   "metadata": {},
   "outputs": [
    {
     "data": {
      "text/html": [
       "<div>\n",
       "<style scoped>\n",
       "    .dataframe tbody tr th:only-of-type {\n",
       "        vertical-align: middle;\n",
       "    }\n",
       "\n",
       "    .dataframe tbody tr th {\n",
       "        vertical-align: top;\n",
       "    }\n",
       "\n",
       "    .dataframe thead th {\n",
       "        text-align: right;\n",
       "    }\n",
       "</style>\n",
       "<table border=\"1\" class=\"dataframe\">\n",
       "  <thead>\n",
       "    <tr style=\"text-align: right;\">\n",
       "      <th></th>\n",
       "      <th>Hours</th>\n",
       "      <th>Sales</th>\n",
       "    </tr>\n",
       "  </thead>\n",
       "  <tbody>\n",
       "    <tr>\n",
       "      <th>0</th>\n",
       "      <td>40</td>\n",
       "      <td>179480.58</td>\n",
       "    </tr>\n",
       "    <tr>\n",
       "      <th>1</th>\n",
       "      <td>56</td>\n",
       "      <td>2495037.51</td>\n",
       "    </tr>\n",
       "    <tr>\n",
       "      <th>2</th>\n",
       "      <td>50</td>\n",
       "      <td>2285369.51</td>\n",
       "    </tr>\n",
       "    <tr>\n",
       "      <th>3</th>\n",
       "      <td>82</td>\n",
       "      <td>2367896.33</td>\n",
       "    </tr>\n",
       "    <tr>\n",
       "      <th>4</th>\n",
       "      <td>41</td>\n",
       "      <td>1309745.16</td>\n",
       "    </tr>\n",
       "    <tr>\n",
       "      <th>5</th>\n",
       "      <td>51</td>\n",
       "      <td>623013.69</td>\n",
       "    </tr>\n",
       "    <tr>\n",
       "      <th>6</th>\n",
       "      <td>45</td>\n",
       "      <td>2989943.37</td>\n",
       "    </tr>\n",
       "    <tr>\n",
       "      <th>7</th>\n",
       "      <td>90</td>\n",
       "      <td>1970316.24</td>\n",
       "    </tr>\n",
       "    <tr>\n",
       "      <th>8</th>\n",
       "      <td>47</td>\n",
       "      <td>1845840.39</td>\n",
       "    </tr>\n",
       "    <tr>\n",
       "      <th>9</th>\n",
       "      <td>72</td>\n",
       "      <td>2553231.33</td>\n",
       "    </tr>\n",
       "  </tbody>\n",
       "</table>\n",
       "</div>"
      ],
      "text/plain": [
       "   Hours       Sales\n",
       "0     40   179480.58\n",
       "1     56  2495037.51\n",
       "2     50  2285369.51\n",
       "3     82  2367896.33\n",
       "4     41  1309745.16\n",
       "5     51   623013.69\n",
       "6     45  2989943.37\n",
       "7     90  1970316.24\n",
       "8     47  1845840.39\n",
       "9     72  2553231.33"
      ]
     },
     "execution_count": 20,
     "metadata": {},
     "output_type": "execute_result"
    }
   ],
   "source": [
    "# Load Datasets to DB-dealership\n",
    "data = pd.read_csv(\"dealership.csv\")\n",
    "data"
   ]
  },
  {
   "cell_type": "code",
   "execution_count": 21,
   "id": "06b0d3be",
   "metadata": {},
   "outputs": [],
   "source": [
    "# Create Table dealership\n",
    "cursor.execute(\"create Table dealership(Hours INT , Sales FLOAT)\")"
   ]
  },
  {
   "cell_type": "code",
   "execution_count": 22,
   "id": "cde0ed5c",
   "metadata": {},
   "outputs": [],
   "source": [
    "# INSERT VALUES INTO dealership\n",
    "for row in data.itertuples():\n",
    "    sql = \"INSERT INTO dealership (Hours,Sales) VALUES ( %(Hours)s ,%(Sales)s)\"\n",
    "    val = {\n",
    "        \"Hours\":row.Hours,\n",
    "        \"Sales\":row.Sales\n",
    "    }  \n",
    "    cursor.execute(sql, val)\n",
    "    mydb.commit()"
   ]
  },
  {
   "cell_type": "code",
   "execution_count": null,
   "id": "8f265608",
   "metadata": {},
   "outputs": [],
   "source": []
  },
  {
   "cell_type": "code",
   "execution_count": 23,
   "id": "10b9492f",
   "metadata": {},
   "outputs": [],
   "source": [
    "#Doping database MYDATABASE if already exists.\n",
    "cursor.execute(\"DROP database IF EXISTS Demo\")"
   ]
  },
  {
   "cell_type": "code",
   "execution_count": 24,
   "id": "c726bfde",
   "metadata": {},
   "outputs": [],
   "source": [
    "#Preparing query to create a database\n",
    "sql = \"CREATE database Demo\";"
   ]
  },
  {
   "cell_type": "code",
   "execution_count": 25,
   "id": "1974b458",
   "metadata": {},
   "outputs": [],
   "source": [
    "#Creating a database\n",
    "cursor.execute(sql)"
   ]
  },
  {
   "cell_type": "code",
   "execution_count": 26,
   "id": "277d586d",
   "metadata": {},
   "outputs": [
    {
     "name": "stdout",
     "output_type": "stream",
     "text": [
      "('dataset1',)\n",
      "('demo',)\n",
      "('employees',)\n",
      "('information_schema',)\n",
      "('mydb',)\n",
      "('mysql',)\n",
      "('performance_schema',)\n",
      "('power',)\n",
      "('sakila',)\n",
      "('sys',)\n",
      "('world',)\n"
     ]
    }
   ],
   "source": [
    "#Retrieving the list of databases\n",
    "cursor.execute(\"SHOW DATABASES\")\n",
    "\n",
    "for x in cursor:\n",
    "    print(x) "
   ]
  },
  {
   "cell_type": "code",
   "execution_count": 27,
   "id": "3c4a0cd8",
   "metadata": {},
   "outputs": [],
   "source": [
    "#Python Mysql - Use Database\n",
    "cursor.execute(\"use Demo\")"
   ]
  },
  {
   "cell_type": "code",
   "execution_count": 28,
   "id": "66bfb1e1",
   "metadata": {},
   "outputs": [],
   "source": [
    "#Dropping Table if already Exists\n",
    "cursor.execute(\"drop table if exists Iris\")"
   ]
  },
  {
   "cell_type": "code",
   "execution_count": 29,
   "id": "6ee62e5b",
   "metadata": {},
   "outputs": [],
   "source": [
    "#Python-Mysql - Create Table\n",
    "cursor.execute(\"create Table Iris(Id INT,SepalLengthCm FLOAT , SepalWidthCm FLOAT, PetalLengthCm FLOAT, PetalWidthCm FLOAT , Species VARCHAR(16))\")"
   ]
  },
  {
   "cell_type": "code",
   "execution_count": 30,
   "id": "cb8441d0",
   "metadata": {},
   "outputs": [
    {
     "data": {
      "text/html": [
       "<div>\n",
       "<style scoped>\n",
       "    .dataframe tbody tr th:only-of-type {\n",
       "        vertical-align: middle;\n",
       "    }\n",
       "\n",
       "    .dataframe tbody tr th {\n",
       "        vertical-align: top;\n",
       "    }\n",
       "\n",
       "    .dataframe thead th {\n",
       "        text-align: right;\n",
       "    }\n",
       "</style>\n",
       "<table border=\"1\" class=\"dataframe\">\n",
       "  <thead>\n",
       "    <tr style=\"text-align: right;\">\n",
       "      <th></th>\n",
       "      <th>Id</th>\n",
       "      <th>SepalLengthCm</th>\n",
       "      <th>SepalWidthCm</th>\n",
       "      <th>PetalLengthCm</th>\n",
       "      <th>PetalWidthCm</th>\n",
       "      <th>Species_Id</th>\n",
       "    </tr>\n",
       "  </thead>\n",
       "  <tbody>\n",
       "    <tr>\n",
       "      <th>0</th>\n",
       "      <td>1</td>\n",
       "      <td>5.1</td>\n",
       "      <td>3.5</td>\n",
       "      <td>1.4</td>\n",
       "      <td>0.2</td>\n",
       "      <td>A</td>\n",
       "    </tr>\n",
       "    <tr>\n",
       "      <th>1</th>\n",
       "      <td>2</td>\n",
       "      <td>4.9</td>\n",
       "      <td>3.0</td>\n",
       "      <td>1.4</td>\n",
       "      <td>0.2</td>\n",
       "      <td>A</td>\n",
       "    </tr>\n",
       "    <tr>\n",
       "      <th>2</th>\n",
       "      <td>3</td>\n",
       "      <td>4.7</td>\n",
       "      <td>3.2</td>\n",
       "      <td>1.3</td>\n",
       "      <td>0.2</td>\n",
       "      <td>A</td>\n",
       "    </tr>\n",
       "    <tr>\n",
       "      <th>3</th>\n",
       "      <td>4</td>\n",
       "      <td>4.6</td>\n",
       "      <td>3.1</td>\n",
       "      <td>1.5</td>\n",
       "      <td>0.2</td>\n",
       "      <td>A</td>\n",
       "    </tr>\n",
       "    <tr>\n",
       "      <th>4</th>\n",
       "      <td>5</td>\n",
       "      <td>5.0</td>\n",
       "      <td>3.6</td>\n",
       "      <td>1.4</td>\n",
       "      <td>0.2</td>\n",
       "      <td>A</td>\n",
       "    </tr>\n",
       "    <tr>\n",
       "      <th>...</th>\n",
       "      <td>...</td>\n",
       "      <td>...</td>\n",
       "      <td>...</td>\n",
       "      <td>...</td>\n",
       "      <td>...</td>\n",
       "      <td>...</td>\n",
       "    </tr>\n",
       "    <tr>\n",
       "      <th>145</th>\n",
       "      <td>146</td>\n",
       "      <td>6.7</td>\n",
       "      <td>3.0</td>\n",
       "      <td>5.2</td>\n",
       "      <td>2.3</td>\n",
       "      <td>C</td>\n",
       "    </tr>\n",
       "    <tr>\n",
       "      <th>146</th>\n",
       "      <td>147</td>\n",
       "      <td>6.3</td>\n",
       "      <td>2.5</td>\n",
       "      <td>5.0</td>\n",
       "      <td>1.9</td>\n",
       "      <td>C</td>\n",
       "    </tr>\n",
       "    <tr>\n",
       "      <th>147</th>\n",
       "      <td>148</td>\n",
       "      <td>6.5</td>\n",
       "      <td>3.0</td>\n",
       "      <td>5.2</td>\n",
       "      <td>2.0</td>\n",
       "      <td>C</td>\n",
       "    </tr>\n",
       "    <tr>\n",
       "      <th>148</th>\n",
       "      <td>149</td>\n",
       "      <td>6.2</td>\n",
       "      <td>3.4</td>\n",
       "      <td>5.4</td>\n",
       "      <td>2.3</td>\n",
       "      <td>C</td>\n",
       "    </tr>\n",
       "    <tr>\n",
       "      <th>149</th>\n",
       "      <td>150</td>\n",
       "      <td>5.9</td>\n",
       "      <td>3.0</td>\n",
       "      <td>5.1</td>\n",
       "      <td>1.8</td>\n",
       "      <td>C</td>\n",
       "    </tr>\n",
       "  </tbody>\n",
       "</table>\n",
       "<p>150 rows × 6 columns</p>\n",
       "</div>"
      ],
      "text/plain": [
       "      Id  SepalLengthCm  SepalWidthCm  PetalLengthCm  PetalWidthCm Species_Id\n",
       "0      1            5.1           3.5            1.4           0.2          A\n",
       "1      2            4.9           3.0            1.4           0.2          A\n",
       "2      3            4.7           3.2            1.3           0.2          A\n",
       "3      4            4.6           3.1            1.5           0.2          A\n",
       "4      5            5.0           3.6            1.4           0.2          A\n",
       "..   ...            ...           ...            ...           ...        ...\n",
       "145  146            6.7           3.0            5.2           2.3          C\n",
       "146  147            6.3           2.5            5.0           1.9          C\n",
       "147  148            6.5           3.0            5.2           2.0          C\n",
       "148  149            6.2           3.4            5.4           2.3          C\n",
       "149  150            5.9           3.0            5.1           1.8          C\n",
       "\n",
       "[150 rows x 6 columns]"
      ]
     },
     "execution_count": 30,
     "metadata": {},
     "output_type": "execute_result"
    }
   ],
   "source": [
    "# Load Datasets to DB-Iris\n",
    "data = pd.read_csv(\"Iris.csv\")\n",
    "data"
   ]
  },
  {
   "cell_type": "code",
   "execution_count": 31,
   "id": "c54c7adc",
   "metadata": {},
   "outputs": [],
   "source": [
    "#Load csv into db\n",
    "for row in data.itertuples():\n",
    "    sql = \"INSERT INTO Iris (Id, SepalLengthCm, SepalWidthCm, PetalLengthCm, PetalWidthCm ,Species) VALUES (%(Id)s, %(SepalLengthCm)s, %(SepalWidthCm)s, %(PetalLengthCm)s, %(PetalWidthCm)s, %(Species)s)\"\n",
    "    val = {\n",
    "        \"Id\":row.Id,\n",
    "        \"SepalLengthCm\":row.SepalLengthCm,\n",
    "        \"SepalWidthCm\":row.SepalWidthCm,\n",
    "        \"PetalLengthCm\":row.PetalLengthCm,\n",
    "        \"PetalWidthCm\": row.PetalWidthCm,\n",
    "        \"Species\":row.Species_Id     \n",
    "    }  \n",
    "    cursor.execute(sql, val)\n",
    "    mydb.commit()"
   ]
  },
  {
   "cell_type": "code",
   "execution_count": 32,
   "id": "ed0dfe2e",
   "metadata": {},
   "outputs": [
    {
     "name": "stdout",
     "output_type": "stream",
     "text": [
      "[(1, 5.1, 3.5, 1.4, 0.2, 'A')]\n"
     ]
    }
   ],
   "source": [
    "#Retrieving single row\n",
    "sql = '''SELECT * from Iris'''\n",
    "\n",
    "#Executing the query\n",
    "cursor.execute(sql)\n",
    "\n",
    "#Fetching 1st row from the table\n",
    "result = cursor.fetchmany(size =1); # can control the rows outcomes\n",
    "print(result)"
   ]
  },
  {
   "cell_type": "code",
   "execution_count": null,
   "id": "0d9cc70e",
   "metadata": {},
   "outputs": [],
   "source": []
  },
  {
   "cell_type": "code",
   "execution_count": null,
   "id": "93071b10",
   "metadata": {},
   "outputs": [],
   "source": [
    "import mysql.connector\n",
    "import pandas as pd\n",
    "\n",
    "mydb = mysql.connector.connect(\n",
    "  host=\"localhost\",\n",
    "  user=\"root\",\n",
    "  password=\"test\"\n",
    ")\n",
    "\n",
    "cursor = mydb.cursor()"
   ]
  },
  {
   "cell_type": "code",
   "execution_count": null,
   "id": "9852b922",
   "metadata": {},
   "outputs": [],
   "source": [
    "#Doping database MYDATABASE if already exists.\n",
    "cursor.execute(\"DROP database IF EXISTS Datasets\")"
   ]
  },
  {
   "cell_type": "code",
   "execution_count": null,
   "id": "99d87976",
   "metadata": {},
   "outputs": [],
   "source": [
    "# Creating a Database\n",
    "cursor.execute(\" CREATE DATABASE Datasets\")"
   ]
  },
  {
   "cell_type": "code",
   "execution_count": null,
   "id": "ed6d1b73",
   "metadata": {},
   "outputs": [],
   "source": [
    "# SHOW DATABASES\n",
    "cursor.execute(\"SHOW DATABASES\")\n",
    "\n",
    "for x in cursor:\n",
    "    print(x) "
   ]
  },
  {
   "cell_type": "code",
   "execution_count": null,
   "id": "69c0d4a0",
   "metadata": {},
   "outputs": [],
   "source": [
    "# Use heights\n",
    "cursor.execute(\"use Datasets\")"
   ]
  },
  {
   "cell_type": "code",
   "execution_count": null,
   "id": "7e4ab619",
   "metadata": {},
   "outputs": [],
   "source": [
    "# Load Datasets to DB-Iris\n",
    "data = pd.read_csv(\"./Datasets/Iris.csv\")\n",
    "data"
   ]
  },
  {
   "cell_type": "code",
   "execution_count": null,
   "id": "de11784e",
   "metadata": {},
   "outputs": [],
   "source": [
    "cursor.execute(\"create Table Iris(Id INT,SepalLengthCm FLOAT , SepalWidthCm FLOAT, PetalLengthCm FLOAT, PetalWidthCm FLOAT , Species VARCHAR(16))\")"
   ]
  },
  {
   "cell_type": "code",
   "execution_count": null,
   "id": "26c03023",
   "metadata": {},
   "outputs": [],
   "source": [
    "for row in data.itertuples():\n",
    "    sql = \"INSERT INTO Iris (Id, SepalLengthCm, SepalWidthCm, PetalLengthCm, PetalWidthCm ,Species) VALUES (%(Id)s, %(SepalLengthCm)s, %(SepalWidthCm)s, %(PetalLengthCm)s, %(PetalWidthCm)s, %(Species)s)\"\n",
    "    val = {\n",
    "        \"Id\":row.Id,\n",
    "        \"SepalLengthCm\":row.SepalLengthCm,\n",
    "        \"SepalWidthCm\":row.SepalWidthCm,\n",
    "        \"PetalLengthCm\":row.PetalLengthCm,\n",
    "        \"PetalWidthCm\": row.PetalWidthCm,\n",
    "        \"Species\":row.Species_Id     \n",
    "    }  \n",
    "    cursor.execute(sql, val)\n",
    "    mydb.commit()"
   ]
  },
  {
   "cell_type": "code",
   "execution_count": null,
   "id": "1eec0c09",
   "metadata": {},
   "outputs": [],
   "source": [
    "#Doping database MYDATABASE if already exists.\n",
    "cursor.execute(\"DROP database IF EXISTS joins\")"
   ]
  },
  {
   "cell_type": "code",
   "execution_count": null,
   "id": "8b26b6c4",
   "metadata": {},
   "outputs": [],
   "source": [
    "# Create Database \n",
    "cursor.execute(\"create database joins\")"
   ]
  },
  {
   "cell_type": "code",
   "execution_count": null,
   "id": "580543c0",
   "metadata": {},
   "outputs": [],
   "source": [
    "# SHOW DATABASES\n",
    "cursor.execute(\"SHOW DATABASES\")\n",
    "\n",
    "for x in cursor:\n",
    "    print(x) "
   ]
  },
  {
   "cell_type": "code",
   "execution_count": null,
   "id": "2f7832ff",
   "metadata": {},
   "outputs": [],
   "source": [
    "# Use Joins db\n",
    "cursor.execute(\"use joins\")"
   ]
  },
  {
   "cell_type": "code",
   "execution_count": null,
   "id": "1f137406",
   "metadata": {},
   "outputs": [],
   "source": [
    "# Load Datasets to DB-Iris\n",
    "data = pd.read_csv(\"./Datasets/Iris.csv\")\n",
    "data"
   ]
  },
  {
   "cell_type": "code",
   "execution_count": null,
   "id": "b9f79558",
   "metadata": {},
   "outputs": [],
   "source": [
    "# Create Table Iris-sepal\n",
    "cursor.execute(\"create Table Iris_sepal(Id INT PRIMARY KEY, SepalLengthCm FLOAT , SepalWidthCm FLOAT , Species_Id varchar(2) )\")"
   ]
  },
  {
   "cell_type": "code",
   "execution_count": null,
   "id": "4c4357fb",
   "metadata": {},
   "outputs": [],
   "source": [
    "# Insert into Iris_sepal\n",
    "for row in data.itertuples():\n",
    "    sql = \"INSERT INTO Iris_sepal (Id, SepalLengthCm, SepalWidthCm, Species_Id) VALUES (%(Id)s, %(SepalLengthCm)s, %(SepalWidthCm)s, %(Species_Id)s) \"\n",
    "    val = {\n",
    "        \"Id\":row.Id,\n",
    "        \"SepalLengthCm\":row.SepalLengthCm,\n",
    "        \"SepalWidthCm\":row.SepalWidthCm,\n",
    "        \"Species_Id\": row.Species_Id\n",
    "    }  \n",
    "    cursor.execute(sql, val)\n",
    "    mydb.commit()"
   ]
  },
  {
   "cell_type": "code",
   "execution_count": null,
   "id": "b9cc46b0",
   "metadata": {},
   "outputs": [],
   "source": [
    "# Create Table Iris-petal\n",
    "cursor.execute(\"create Table Iris_petal(Id INT  PRIMARY KEY ,  PetalLengthCm FLOAT, PetalWidthCm FLOAT , Species_Id varchar(2) )\")"
   ]
  },
  {
   "cell_type": "code",
   "execution_count": null,
   "id": "d0d794ac",
   "metadata": {},
   "outputs": [],
   "source": [
    "# Insert into Iris_petal\n",
    "for row in data.itertuples():\n",
    "    sql = \"INSERT INTO Iris_petal (Id,  PetalLengthCm, PetalWidthCm, Species_Id ) VALUES (%(Id)s, %(PetalLengthCm)s, %(PetalWidthCm)s, %(Species_Id)s )\"\n",
    "    val = {\n",
    "        \"Id\":row.Id,\n",
    "        \"PetalLengthCm\":row.PetalLengthCm,\n",
    "        \"PetalWidthCm\": row.PetalWidthCm,\n",
    "        \"Species_Id\": row.Species_Id\n",
    "    }  \n",
    "    cursor.execute(sql, val)\n",
    "    mydb.commit()"
   ]
  },
  {
   "cell_type": "code",
   "execution_count": null,
   "id": "31f05ea5",
   "metadata": {},
   "outputs": [],
   "source": [
    "# Load Datasets to DB-Iris\n",
    "data = pd.read_csv(\"./Datasets/Iris_species.csv\")\n",
    "data"
   ]
  },
  {
   "cell_type": "code",
   "execution_count": null,
   "id": "63d371b8",
   "metadata": {},
   "outputs": [],
   "source": [
    "# Create Table Iris_species\n",
    "cursor.execute(\"create Table Iris_species(Id INT ,Species_Id VARCHAR(2) PRIMARY KEY , Species VARCHAR(16))\")"
   ]
  },
  {
   "cell_type": "code",
   "execution_count": null,
   "id": "bd2681ba",
   "metadata": {},
   "outputs": [],
   "source": [
    "# Insert into Iris_species\n",
    "for row in data.itertuples():\n",
    "    sql = \"INSERT INTO Iris_species (Id,Species_Id , Species) VALUES (%(Id)s,%(Species_Id)s ,%(Species)s)\"\n",
    "    val = {\n",
    "        \"Id\":row.Id,\n",
    "        \"Species_Id\": row.Species_Id,\n",
    "        \"Species\":row.Species     \n",
    "    }  \n",
    "    cursor.execute(sql, val)\n",
    "    mydb.commit()"
   ]
  },
  {
   "cell_type": "code",
   "execution_count": null,
   "id": "74c933d2",
   "metadata": {},
   "outputs": [],
   "source": [
    "# Select Table Iris_petal\n",
    "pd.read_sql_query(\"select * from Iris_petal\",mydb)"
   ]
  },
  {
   "cell_type": "code",
   "execution_count": null,
   "id": "5c70bd63",
   "metadata": {},
   "outputs": [],
   "source": [
    "# Select Table Iris_sepal\n",
    "pd.read_sql_query(\"select * from Iris_sepal\",mydb)"
   ]
  },
  {
   "cell_type": "code",
   "execution_count": null,
   "id": "85ddb36a",
   "metadata": {},
   "outputs": [],
   "source": [
    "# Select Table Iris_species\n",
    "pd.read_sql_query(\"select * from Iris_species\",mydb)"
   ]
  },
  {
   "cell_type": "code",
   "execution_count": null,
   "id": "bb34d9a8",
   "metadata": {},
   "outputs": [],
   "source": [
    "# Create Table members\n",
    "cursor.execute(\"create Table member(member_id INT AUTO_INCREMENT PRIMARY KEY, name VARCHAR(100)  )\")"
   ]
  },
  {
   "cell_type": "code",
   "execution_count": null,
   "id": "aa2577b6",
   "metadata": {},
   "outputs": [],
   "source": [
    "# Create Table committees\n",
    "cursor.execute(\"create Table committees(committees_id INT AUTO_INCREMENT PRIMARY KEY, name VARCHAR(100)  )\")"
   ]
  },
  {
   "cell_type": "code",
   "execution_count": null,
   "id": "eab33d9f",
   "metadata": {},
   "outputs": [],
   "source": [
    "# Inserting Values to member table\n",
    "cursor.execute(\"INSERT INTO member(name) VALUES ('Ragu'),('Vicky'),('Thanigai'),('Deva'),('Jegan')\")"
   ]
  },
  {
   "cell_type": "code",
   "execution_count": null,
   "id": "e26d4403",
   "metadata": {},
   "outputs": [],
   "source": [
    "# Inserting Values to committees table\n",
    "cursor.execute(\"INSERT INTO committees(name) VALUES ('Ragu'),('Vicky'),('Thanigai'),('Jegan')\")"
   ]
  },
  {
   "cell_type": "code",
   "execution_count": null,
   "id": "1a7b2567",
   "metadata": {},
   "outputs": [],
   "source": [
    "# Viewing the Member table\n",
    "pd.read_sql_query(\"select * from member\",mydb)"
   ]
  },
  {
   "cell_type": "code",
   "execution_count": null,
   "id": "cf28b1bd",
   "metadata": {},
   "outputs": [],
   "source": [
    "# Viewing the committees table\n",
    "pd.read_sql_query(\"select * from committees\",mydb)"
   ]
  },
  {
   "cell_type": "code",
   "execution_count": null,
   "id": "b0a58b85",
   "metadata": {},
   "outputs": [],
   "source": []
  },
  {
   "cell_type": "code",
   "execution_count": null,
   "id": "3318c070",
   "metadata": {},
   "outputs": [],
   "source": []
  },
  {
   "cell_type": "code",
   "execution_count": null,
   "id": "06e76084",
   "metadata": {},
   "outputs": [],
   "source": []
  }
 ],
 "metadata": {
  "kernelspec": {
   "display_name": "Python 3 (ipykernel)",
   "language": "python",
   "name": "python3"
  },
  "language_info": {
   "codemirror_mode": {
    "name": "ipython",
    "version": 3
   },
   "file_extension": ".py",
   "mimetype": "text/x-python",
   "name": "python",
   "nbconvert_exporter": "python",
   "pygments_lexer": "ipython3",
   "version": "3.10.9"
  }
 },
 "nbformat": 4,
 "nbformat_minor": 5
}
